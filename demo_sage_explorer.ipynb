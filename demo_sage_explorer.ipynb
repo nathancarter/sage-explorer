{
 "cells": [
  {
   "cell_type": "markdown",
   "metadata": {},
   "source": [
    "# A Sage Explorer/browser demo\n",
    "WARNING: This explorer is _alpha_ stage. Better comfort will be provided soon."
   ]
  },
  {
   "cell_type": "markdown",
   "metadata": {},
   "source": [
    "Calling `explore(o)` on some Sage object `o` provides a rich\n",
    "visualization of this object, displaying the object, together\n",
    "with some of its basic properties, a list of the available methods,\n",
    "its help, etc. In order to explore related objects, one can click\n",
    "on displayed objects and execute methods.\n",
    "\n",
    "Let's try with a few objects:"
   ]
  },
  {
   "cell_type": "code",
   "execution_count": 1,
   "metadata": {},
   "outputs": [
    {
     "data": {
      "application/vnd.jupyter.widget-view+json": {
       "model_id": "bf57bfa2a8c349bd926a589835d57e4a",
       "version_major": 2,
       "version_minor": 0
      },
      "text/plain": [
       "SFRNTCh2YWx1ZT11JzxzdHlsZT5cbi5ibGJ1dHRvbiB7IGJhY2tncm91bmQtY29sb3I6IHdoaXRlOyB9XG4uZHdidXR0b24ge1xuICAgIGJvcmRlci1jb2xsYXBzZTogY29sbGFwc2U7XG4gICDigKY=\n"
      ]
     },
     "metadata": {},
     "output_type": "display_data"
    }
   ],
   "source": [
    "from sage_explorer import explore"
   ]
  },
  {
   "cell_type": "code",
   "execution_count": 2,
   "metadata": {
    "scrolled": true
   },
   "outputs": [
    {
     "data": {
      "application/vnd.jupyter.widget-view+json": {
       "model_id": "b76b26318aa54e99b124043e0b5292b6",
       "version_major": 2,
       "version_minor": 0
      },
      "text/plain": [
       "U2FnZUV4cGxvcmVyKGNoaWxkcmVuPShIQm94KGNoaWxkcmVuPShWQm94KGNoaWxkcmVuPShMYWJlbCh2YWx1ZT11J1BhcnRpdGlvbicsIF9kb21fY2xhc3Nlcz0odSd0aXRsZScsKSksIFZCb3jigKY=\n"
      ]
     },
     "metadata": {},
     "output_type": "display_data"
    }
   ],
   "source": [
    "p = Partition([3,3,2,1])\n",
    "explore(p)"
   ]
  },
  {
   "cell_type": "code",
   "execution_count": 3,
   "metadata": {
    "scrolled": true
   },
   "outputs": [
    {
     "data": {
      "application/vnd.jupyter.widget-view+json": {
       "model_id": "dd53addfa6294538b2c64637437da972",
       "version_major": 2,
       "version_minor": 0
      },
      "text/plain": [
       "U2FnZUV4cGxvcmVyKGNoaWxkcmVuPShIQm94KGNoaWxkcmVuPShWQm94KGNoaWxkcmVuPShMYWJlbCh2YWx1ZT11J1N0YW5kYXJkVGFibGVhdScsIF9kb21fY2xhc3Nlcz0odSd0aXRsZScsKSnigKY=\n"
      ]
     },
     "metadata": {},
     "output_type": "display_data"
    }
   ],
   "source": [
    "t = StandardTableaux(15).random_element()\n",
    "explore(t)"
   ]
  },
  {
   "cell_type": "code",
   "execution_count": 4,
   "metadata": {},
   "outputs": [
    {
     "data": {
      "application/vnd.jupyter.widget-view+json": {
       "model_id": "ebce4d5ea3b94ab589324d6252727fb6",
       "version_major": 2,
       "version_minor": 0
      },
      "text/plain": [
       "U2FnZUV4cGxvcmVyKGNoaWxkcmVuPShIQm94KGNoaWxkcmVuPShWQm94KGNoaWxkcmVuPShMYWJlbCh2YWx1ZT11J0Zpbml0ZVBvc2V0X3dpdGhfY2F0ZWdvcnknLCBfZG9tX2NsYXNzZXM9KHXigKY=\n"
      ]
     },
     "metadata": {},
     "output_type": "display_data"
    }
   ],
   "source": [
    "explore(p.cell_poset())"
   ]
  },
  {
   "cell_type": "code",
   "execution_count": 5,
   "metadata": {},
   "outputs": [
    {
     "data": {
      "application/vnd.jupyter.widget-view+json": {
       "model_id": "d2074bdac2d04f0480c11a06eefe41bf",
       "version_major": 2,
       "version_minor": 0
      },
      "text/plain": [
       "U2FnZUV4cGxvcmVyKGNoaWxkcmVuPShIQm94KGNoaWxkcmVuPShWQm94KGNoaWxkcmVuPShMYWJlbCh2YWx1ZT11J0dyYXBoJywgX2RvbV9jbGFzc2VzPSh1J3RpdGxlJywpKSwgVkJveCgpKSzigKY=\n"
      ]
     },
     "metadata": {},
     "output_type": "display_data"
    }
   ],
   "source": [
    "explore(graphs.PetersenGraph())"
   ]
  },
  {
   "cell_type": "code",
   "execution_count": 6,
   "metadata": {},
   "outputs": [
    {
     "data": {
      "application/vnd.jupyter.widget-view+json": {
       "model_id": "995e93b5ea8348b89662a3329f11d056",
       "version_major": 2,
       "version_minor": 0
      },
      "text/plain": [
       "U2FnZUV4cGxvcmVyKGNoaWxkcmVuPShIQm94KGNoaWxkcmVuPShWQm94KGNoaWxkcmVuPShMYWJlbCh2YWx1ZT11J0Zpbml0ZUZpZWxkX2dpdmFyb193aXRoX2NhdGVnb3J5JywgX2RvbV9jbGHigKY=\n"
      ]
     },
     "metadata": {},
     "output_type": "display_data"
    }
   ],
   "source": [
    "explore(GF(9, name='x'))"
   ]
  },
  {
   "cell_type": "code",
   "execution_count": 7,
   "metadata": {},
   "outputs": [
    {
     "data": {
      "application/vnd.jupyter.widget-view+json": {
       "model_id": "07ce3ae4379841baa1b5b188b2949974",
       "version_major": 2,
       "version_minor": 0
      },
      "text/plain": [
       "U2FnZUV4cGxvcmVyKGNoaWxkcmVuPShIQm94KGNoaWxkcmVuPShWQm94KGNoaWxkcmVuPShMYWJlbCh2YWx1ZT11J0hpZ2hlc3RXZWlnaHRDcnlzdGFsT2ZUeXBlQV93aXRoX2NhdGVnb3J5JyzigKY=\n"
      ]
     },
     "metadata": {},
     "output_type": "display_data"
    }
   ],
   "source": [
    "explore(Crystals().example())"
   ]
  },
  {
   "cell_type": "markdown",
   "metadata": {},
   "source": [
    "## Exploring Sage as a whole"
   ]
  },
  {
   "cell_type": "code",
   "execution_count": 8,
   "metadata": {
    "scrolled": true
   },
   "outputs": [
    {
     "data": {
      "application/vnd.jupyter.widget-view+json": {
       "model_id": "206e01c32a47442186490692a49de7b5",
       "version_major": 2,
       "version_minor": 0
      },
      "text/plain": [
       "U2FnZUV4cGxvcmVyKGNoaWxkcmVuPShIQm94KGNoaWxkcmVuPShWQm94KGNoaWxkcmVuPShMYWJlbCh2YWx1ZT11J1NhZ2UgRXhwbG9yZXInLCBfZG9tX2NsYXNzZXM9KHUndGl0bGUnLCkpLCDigKY=\n"
      ]
     },
     "metadata": {},
     "output_type": "display_data"
    }
   ],
   "source": [
    "explore()"
   ]
  },
  {
   "cell_type": "markdown",
   "metadata": {},
   "source": [
    "## The explorer as a building block\n",
    "Because the explorer is built using Jupyter widgets, it can be used as\n",
    "a building block for other applications. To start with, one can change\n",
    "the displayed object:"
   ]
  },
  {
   "cell_type": "code",
   "execution_count": 9,
   "metadata": {},
   "outputs": [
    {
     "data": {
      "application/vnd.jupyter.widget-view+json": {
       "model_id": "ac9ef3c0a0544363837cadf15a7e9b22",
       "version_major": 2,
       "version_minor": 0
      },
      "text/plain": [
       "U2FnZUV4cGxvcmVyKGNoaWxkcmVuPShIQm94KGNoaWxkcmVuPShWQm94KGNoaWxkcmVuPShMYWJlbCh2YWx1ZT11J1BhcnRpdGlvbicsIF9kb21fY2xhc3Nlcz0odSd0aXRsZScsKSksIFZCb3jigKY=\n"
      ]
     },
     "metadata": {},
     "output_type": "display_data"
    }
   ],
   "source": [
    "widget = explore(p)\n",
    "widget"
   ]
  },
  {
   "cell_type": "code",
   "execution_count": 10,
   "metadata": {},
   "outputs": [],
   "source": [
    "widget.set_object(Partition([5,2,1]))"
   ]
  },
  {
   "cell_type": "markdown",
   "metadata": {},
   "source": [
    "### Example: building a dedicated elliptic curve browser\n",
    "This provides a browser over the 20 first elliptic curves from Cremona database:"
   ]
  },
  {
   "cell_type": "code",
   "execution_count": 11,
   "metadata": {
    "scrolled": true
   },
   "outputs": [
    {
     "data": {
      "application/vnd.jupyter.widget-view+json": {
       "model_id": "5e75fdfd74734fc39591ed7c39757a38",
       "version_major": 2,
       "version_minor": 0
      },
      "text/plain": [
       "RHJvcGRvd24oZGVzY3JpcHRpb249dSdDdXJ2ZScsIG9wdGlvbnM9KCcxMWExJywgJzExYTInLCAnMTFhMycsICcxNGExJywgJzE0YTInLCAnMTRhMycsICcxNGE0JywgJzE0YTUnLCAnMTRhNifigKY=\n"
      ]
     },
     "metadata": {},
     "output_type": "display_data"
    },
    {
     "data": {
      "application/vnd.jupyter.widget-view+json": {
       "model_id": "001461972d6e4f5d9337cf80141f23ab",
       "version_major": 2,
       "version_minor": 0
      },
      "text/plain": [
       "U2FnZUV4cGxvcmVyKGNoaWxkcmVuPShIQm94KGNoaWxkcmVuPShWQm94KGNoaWxkcmVuPShMYWJlbCh2YWx1ZT11J0VsbGlwdGljQ3VydmVfcmF0aW9uYWxfZmllbGRfd2l0aF9jYXRlZ29yeSfigKY=\n"
      ]
     },
     "metadata": {},
     "output_type": "display_data"
    }
   ],
   "source": [
    "from ipywidgets import Dropdown, VBox\n",
    "from IPython.display import display\n",
    "\n",
    "curves = [E.label() for E in cremona_curves(range(20))]\n",
    "explorer = explore(EllipticCurve(curves[0]))\n",
    "menu = Dropdown(options=curves, description = \"Curve\")\n",
    "def handler(event):\n",
    "    print(event)\n",
    "    explorer.set_object(EllipticCurve(event['new']))\n",
    "menu.observe(handler, names=['value'])\n",
    "display(menu, explorer)"
   ]
  },
  {
   "cell_type": "code",
   "execution_count": null,
   "metadata": {},
   "outputs": [],
   "source": []
  }
 ],
 "metadata": {
  "kernelspec": {
   "display_name": "SageMath 8.3.beta4",
   "language": "",
   "name": "sagemath"
  },
  "language_info": {
   "codemirror_mode": {
    "name": "ipython",
    "version": 2
   },
   "file_extension": ".py",
   "mimetype": "text/x-python",
   "name": "python",
   "nbconvert_exporter": "python",
   "pygments_lexer": "ipython2",
   "version": "2.7.15"
  }
 },
 "nbformat": 4,
 "nbformat_minor": 2
}
