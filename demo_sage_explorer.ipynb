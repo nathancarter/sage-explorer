{
 "cells": [
  {
   "cell_type": "markdown",
   "metadata": {},
   "source": [
    "# A Sage Explorer/browser demo\n"
   ]
  },
  {
   "cell_type": "markdown",
   "metadata": {},
   "source": [
    "Calling `explore(o)` on some Sage object `o` provides a rich\n",
    "visualization of this object, displaying the object, together\n",
    "with some of its basic properties, a list of the available methods,\n",
    "its help, etc. In order to explore related objects, one can click\n",
    "on displayed objects and execute methods.\n",
    "\n",
    "Let's try with a few objects:"
   ]
  },
  {
   "cell_type": "code",
   "execution_count": 1,
   "metadata": {},
   "outputs": [
    {
     "data": {
      "application/vnd.jupyter.widget-view+json": {
       "model_id": "319a0eb866234dd0a40169f54a328ba5",
       "version_major": 2,
       "version_minor": 0
      },
      "text/plain": [
       "SFRNTCh2YWx1ZT11JzxzdHlsZT4uaW52aXNpYmxlIHtkaXNwbGF5OiBub25lOyB3aWR0aDogMDsgaGVpZ2h0OiAwfVxuLnZpc2libGUge2Rpc3BsYXk6IHRhYmxlfVxuLnRpdGxlLWxldmVsMSDigKY=\n"
      ]
     },
     "metadata": {},
     "output_type": "display_data"
    },
    {
     "data": {
      "application/vnd.jupyter.widget-view+json": {
       "model_id": "04ae71c6aed94d7ab6d1a247cc5c6e35",
       "version_major": 2,
       "version_minor": 0
      },
      "text/plain": [
       "SFRNTCh2YWx1ZT11JzxzdHlsZT5cbi5ibGJ1dHRvbiB7IGJhY2tncm91bmQtY29sb3I6IHdoaXRlOyB9XG4uZHdidXR0b24ge1xuICAgIGJvcmRlci1jb2xsYXBzZTogY29sbGFwc2U7XG4gICDigKY=\n"
      ]
     },
     "metadata": {},
     "output_type": "display_data"
    }
   ],
   "source": [
    "from sage_explorer import explore"
   ]
  },
  {
   "cell_type": "code",
   "execution_count": 2,
   "metadata": {
    "scrolled": true
   },
   "outputs": [
    {
     "data": {
      "application/vnd.jupyter.widget-view+json": {
       "model_id": "ea21148937414813a28f3c19a9012f7f",
       "version_major": 2,
       "version_minor": 0
      },
      "text/plain": [
       "U2FnZUV4cGxvcmVyKGNoaWxkcmVuPShIQm94KGNoaWxkcmVuPShWQm94KGNoaWxkcmVuPShUaXRsZSh2YWx1ZT11J0V4cGxvcmluZzogWzMsIDMsIDIsIDFdJywgX2RvbV9jbGFzc2VzPSh1J3TigKY=\n"
      ]
     },
     "metadata": {},
     "output_type": "display_data"
    }
   ],
   "source": [
    "p = Partition([3,3,2,1])\n",
    "explore(p)"
   ]
  },
  {
   "cell_type": "code",
   "execution_count": 3,
   "metadata": {
    "scrolled": true
   },
   "outputs": [
    {
     "data": {
      "application/vnd.jupyter.widget-view+json": {
       "model_id": "6b99e057548e44b7959af1c24378cc93",
       "version_major": 2,
       "version_minor": 0
      },
      "text/plain": [
       "U2FnZUV4cGxvcmVyKGNoaWxkcmVuPShIQm94KGNoaWxkcmVuPShWQm94KGNoaWxkcmVuPShUaXRsZSh2YWx1ZT11J0V4cGxvcmluZzogW1sxLCAyLCA0LCA1LCA4LCAxMCwgMTJdLCBbMywgNyzigKY=\n"
      ]
     },
     "metadata": {},
     "output_type": "display_data"
    }
   ],
   "source": [
    "t = StandardTableaux(15).random_element()\n",
    "explore(t)"
   ]
  },
  {
   "cell_type": "code",
   "execution_count": 4,
   "metadata": {},
   "outputs": [
    {
     "data": {
      "application/vnd.jupyter.widget-view+json": {
       "model_id": "5187a48d7b154cf4ae716c9896f78fb0",
       "version_major": 2,
       "version_minor": 0
      },
      "text/plain": [
       "U2FnZUV4cGxvcmVyKGNoaWxkcmVuPShIQm94KGNoaWxkcmVuPShWQm94KGNoaWxkcmVuPShUaXRsZSh2YWx1ZT11J0V4cGxvcmluZzogRmluaXRlIHBvc2V0IGNvbnRhaW5pbmcgOSBlbGVtZW7igKY=\n"
      ]
     },
     "metadata": {},
     "output_type": "display_data"
    }
   ],
   "source": [
    "explore(p.cell_poset())"
   ]
  },
  {
   "cell_type": "code",
   "execution_count": 5,
   "metadata": {},
   "outputs": [
    {
     "data": {
      "application/vnd.jupyter.widget-view+json": {
       "model_id": "da4e604c3ba14395806200fcdf9045f2",
       "version_major": 2,
       "version_minor": 0
      },
      "text/plain": [
       "U2FnZUV4cGxvcmVyKGNoaWxkcmVuPShIQm94KGNoaWxkcmVuPShWQm94KGNoaWxkcmVuPShUaXRsZSh2YWx1ZT11J0V4cGxvcmluZzogUGV0ZXJzZW4gZ3JhcGg6IEdyYXBoIG9uIDEwIHZlcnTigKY=\n"
      ]
     },
     "metadata": {},
     "output_type": "display_data"
    }
   ],
   "source": [
    "explore(graphs.PetersenGraph())"
   ]
  },
  {
   "cell_type": "code",
   "execution_count": 6,
   "metadata": {},
   "outputs": [
    {
     "data": {
      "application/vnd.jupyter.widget-view+json": {
       "model_id": "deaacf4d03e34da49a3a28eb03432c5e",
       "version_major": 2,
       "version_minor": 0
      },
      "text/plain": [
       "U2FnZUV4cGxvcmVyKGNoaWxkcmVuPShIQm94KGNoaWxkcmVuPShWQm94KGNoaWxkcmVuPShUaXRsZSh2YWx1ZT11J0V4cGxvcmluZzogRmluaXRlIEZpZWxkIGluIHggb2Ygc2l6ZSAzXjInLCDigKY=\n"
      ]
     },
     "metadata": {},
     "output_type": "display_data"
    }
   ],
   "source": [
    "explore(GF(9, name='x'))"
   ]
  },
  {
   "cell_type": "code",
   "execution_count": 7,
   "metadata": {},
   "outputs": [
    {
     "data": {
      "application/vnd.jupyter.widget-view+json": {
       "model_id": "67e58343e40a4dad8efa0617fa359937",
       "version_major": 2,
       "version_minor": 0
      },
      "text/plain": [
       "U2FnZUV4cGxvcmVyKGNoaWxkcmVuPShIQm94KGNoaWxkcmVuPShWQm94KGNoaWxkcmVuPShUaXRsZSh2YWx1ZT11J0V4cGxvcmluZzogSGlnaGVzdCB3ZWlnaHQgY3J5c3RhbCBvZiB0eXBlIEHigKY=\n"
      ]
     },
     "metadata": {},
     "output_type": "display_data"
    }
   ],
   "source": [
    "explore(Crystals().example())"
   ]
  },
  {
   "cell_type": "markdown",
   "metadata": {},
   "source": [
    "## Exploring Sage as a whole"
   ]
  },
  {
   "cell_type": "code",
   "execution_count": 8,
   "metadata": {
    "scrolled": true
   },
   "outputs": [
    {
     "data": {
      "application/vnd.jupyter.widget-view+json": {
       "model_id": "b55544faa67d4e7dbdf914af3875a92c",
       "version_major": 2,
       "version_minor": 0
      },
      "text/plain": [
       "U2FnZUV4cGxvcmVyKGNoaWxkcmVuPShIQm94KGNoaWxkcmVuPShWQm94KGNoaWxkcmVuPShUaXRsZSh2YWx1ZT11J1NhZ2UgRXhwbG9yZXInLCBfZG9tX2NsYXNzZXM9KHUndGl0bGUtbGV2ZWzigKY=\n"
      ]
     },
     "metadata": {},
     "output_type": "display_data"
    }
   ],
   "source": [
    "explore()"
   ]
  },
  {
   "cell_type": "markdown",
   "metadata": {},
   "source": [
    "## The explorer as a building block\n",
    "Because the explorer is built using Jupyter widgets, it can be used as\n",
    "a building block for other applications. To start with, one can change\n",
    "the displayed object:"
   ]
  },
  {
   "cell_type": "code",
   "execution_count": 9,
   "metadata": {},
   "outputs": [
    {
     "data": {
      "application/vnd.jupyter.widget-view+json": {
       "model_id": "5c4c13fd85e548f2915d307485408494",
       "version_major": 2,
       "version_minor": 0
      },
      "text/plain": [
       "U2FnZUV4cGxvcmVyKGNoaWxkcmVuPShIQm94KGNoaWxkcmVuPShWQm94KGNoaWxkcmVuPShUaXRsZSh2YWx1ZT11J0V4cGxvcmluZzogWzMsIDMsIDIsIDFdJywgX2RvbV9jbGFzc2VzPSh1J3TigKY=\n"
      ]
     },
     "metadata": {},
     "output_type": "display_data"
    }
   ],
   "source": [
    "widget = explore(p)\n",
    "widget"
   ]
  },
  {
   "cell_type": "code",
   "execution_count": 10,
   "metadata": {},
   "outputs": [],
   "source": [
    "widget.set_object(Partition([5,2,1]))"
   ]
  },
  {
   "cell_type": "markdown",
   "metadata": {},
   "source": [
    "### Example: building a dedicated elliptic curve browser\n",
    "This provides a browser over the 20 first elliptic curves from Cremona database:"
   ]
  },
  {
   "cell_type": "code",
   "execution_count": 11,
   "metadata": {
    "scrolled": false
   },
   "outputs": [
    {
     "data": {
      "application/vnd.jupyter.widget-view+json": {
       "model_id": "9743843458bd43c1b15e74874cbc39a2",
       "version_major": 2,
       "version_minor": 0
      },
      "text/plain": [
       "RHJvcGRvd24oZGVzY3JpcHRpb249dSdDdXJ2ZScsIG9wdGlvbnM9KCcxMWExJywgJzExYTInLCAnMTFhMycsICcxNGExJywgJzE0YTInLCAnMTRhMycsICcxNGE0JywgJzE0YTUnLCAnMTRhNifigKY=\n"
      ]
     },
     "metadata": {},
     "output_type": "display_data"
    },
    {
     "data": {
      "application/vnd.jupyter.widget-view+json": {
       "model_id": "37b3b553204c473f8c3f75c3d77901c2",
       "version_major": 2,
       "version_minor": 0
      },
      "text/plain": [
       "U2FnZUV4cGxvcmVyKGNoaWxkcmVuPShIQm94KGNoaWxkcmVuPShWQm94KGNoaWxkcmVuPShUaXRsZSh2YWx1ZT11J0V4cGxvcmluZzogRWxsaXB0aWMgQ3VydmUgZGVmaW5lZCBieSB5XjIgKyDigKY=\n"
      ]
     },
     "metadata": {},
     "output_type": "display_data"
    }
   ],
   "source": [
    "from ipywidgets import Dropdown, VBox\n",
    "from IPython.display import display\n",
    "\n",
    "curves = [E.label() for E in cremona_curves(range(20))]\n",
    "explorer = explore(EllipticCurve(curves[0]))\n",
    "menu = Dropdown(options=curves, description = \"Curve\")\n",
    "def handler(event):\n",
    "    print(event)\n",
    "    explorer.set_object(EllipticCurve(event['new']))\n",
    "menu.observe(handler, names=['value'])\n",
    "display(menu, explorer)"
   ]
  },
  {
   "cell_type": "code",
   "execution_count": null,
   "metadata": {},
   "outputs": [],
   "source": []
  }
 ],
 "metadata": {
  "kernelspec": {
   "display_name": "SageMath 8.3.rc2",
   "language": "",
   "name": "sagemath"
  },
  "language_info": {
   "codemirror_mode": {
    "name": "ipython",
    "version": 2
   },
   "file_extension": ".py",
   "mimetype": "text/x-python",
   "name": "python",
   "nbconvert_exporter": "python",
   "pygments_lexer": "ipython2",
   "version": "2.7.15"
  }
 },
 "nbformat": 4,
 "nbformat_minor": 2
}
