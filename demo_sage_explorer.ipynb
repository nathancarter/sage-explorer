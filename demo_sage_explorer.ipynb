{
 "cells": [
  {
   "cell_type": "markdown",
   "metadata": {},
   "source": [
    "WARNING: This explorer is _alpha_ stage. Better comfort will be provided soon."
   ]
  },
  {
   "cell_type": "code",
   "execution_count": null,
   "metadata": {},
   "outputs": [],
   "source": [
    "from sage_explorer import *\n",
    "S = StandardTableaux(15)\n",
    "t = S.random_element()\n",
    "p = Partition([3,3,2,1])\n",
    "e = EllipticCurve(\"37b2\")\n",
    "R = GF(9, name='x')\n",
    "cp = p.cell_poset()"
   ]
  },
  {
   "cell_type": "code",
   "execution_count": null,
   "metadata": {},
   "outputs": [],
   "source": [
    "w = SageExplorer(e)\n",
    "#w = SageExplorer(t)\n",
    "#w = SageExplorer(p)\n",
    "#w = SageExplorer(R)\n",
    "w"
   ]
  },
  {
   "cell_type": "code",
   "execution_count": null,
   "metadata": {},
   "outputs": [],
   "source": [
    "w.set_object(t)"
   ]
  }
 ],
 "metadata": {
  "kernelspec": {
   "display_name": "SageMath 8.2",
   "language": "",
   "name": "sagemath"
  },
  "language_info": {
   "codemirror_mode": {
    "name": "ipython",
    "version": 2
   },
   "file_extension": ".py",
   "mimetype": "text/x-python",
   "name": "python",
   "nbconvert_exporter": "python",
   "pygments_lexer": "ipython2",
   "version": "2.7.14"
  }
 },
 "nbformat": 4,
 "nbformat_minor": 2
}
